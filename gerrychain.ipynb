{
 "cells": [
  {
   "cell_type": "code",
   "execution_count": 24,
   "id": "9dd2a2b7-4836-4cf0-b316-ca8a3405f74a",
   "metadata": {},
   "outputs": [],
   "source": [
    "#!/usr/bin/env python3\n",
    "# -*- coding: utf-8 -*-\n",
    "\"\"\"\n",
    "Created on Thu Jan 18 10:26:42 2024\n",
    "\n",
    "@author: eveomett\n",
    "\n",
    "Author: Ellen Veomett\n",
    "\n",
    "for AI for Redistricting\n",
    "\n",
    "Lab 3, spring 2024\n",
    "\"\"\"\n",
    "\n",
    "import matplotlib.pyplot as plt\n",
    "from gerrychain import Graph, Partition, proposals, updaters, constraints, accept, MarkovChain, Election\n",
    "from gerrychain.updaters import cut_edges, Tally\n",
    "from gerrychain.proposals import recom\n",
    "from gerrychain.accept import always_accept\n",
    "from functools import partial\n",
    "import time\n",
    "start_time = time.time()"
   ]
  },
  {
   "cell_type": "code",
   "execution_count": 25,
   "id": "0f8b2635-50eb-4678-907f-5641af4d57a3",
   "metadata": {},
   "outputs": [],
   "source": [
    "state_ab = \"me\""
   ]
  },
  {
   "cell_type": "code",
   "execution_count": 26,
   "id": "7b8ff51c-f48a-4c8e-b6d2-3208d0227c65",
   "metadata": {},
   "outputs": [],
   "source": [
    "il_graph = Graph.from_json(\"./{}/{}.json\".format(state_ab, state_ab))"
   ]
  },
  {
   "cell_type": "markdown",
   "id": "84edd719-b9a1-48ab-8baf-00014993e9bb",
   "metadata": {},
   "source": [
    "# CDelection_df"
   ]
  },
  {
   "cell_type": "code",
   "execution_count": 27,
   "id": "ae865d45-ced1-48e5-94f0-67c561c3a9b4",
   "metadata": {
    "tags": []
   },
   "outputs": [
    {
     "name": "stdout",
     "output_type": "stream",
     "text": [
      "<Partition [2 parts]>\n"
     ]
    }
   ],
   "source": [
    "cutedge_ensemble = []\n",
    "dem_ensemble = []\n",
    "\n",
    "# Create an initial partition\n",
    "initial_partition = Partition(\n",
    "    il_graph,\n",
    "    assignment=\"CD\", # change it to SEND / HDIST\n",
    "    updaters={\n",
    "        \"Dem\": Election(\n",
    "            \"2016 presidential\", {\"Dem\": \"PRE16D\", \"Rep\": \"PRE16R\"}, alias=\"Dem\"\n",
    "        ),\n",
    "        \"total population\": Tally(\"TOTPOP\", alias=\"total population\"),\n",
    "        \"latino population\": Tally(\"HISP\", alias=\"latino population\"),\n",
    "        \"cut_edges\": cut_edges,\n",
    "    },\n",
    ")\n",
    "\n",
    "print(initial_partition)"
   ]
  },
  {
   "cell_type": "code",
   "execution_count": 28,
   "id": "dbdff436-2897-4942-acb7-59ed75f635fa",
   "metadata": {},
   "outputs": [],
   "source": [
    "num_dist = len(initial_partition)\n",
    "total_pop = sum([il_graph.nodes()[v][\"TOTPOP\"] for v in il_graph.nodes()])\n",
    "ideal_pop = total_pop / num_dist\n",
    "pop_toleration = 0.05"
   ]
  },
  {
   "cell_type": "code",
   "execution_count": 29,
   "id": "924b7288-d283-46fc-9d71-ae5206246a58",
   "metadata": {},
   "outputs": [],
   "source": [
    "# Create a proposal\n",
    "proposal = partial(\n",
    "    recom,\n",
    "    pop_col=\"TOTPOP\",\n",
    "    pop_target=ideal_pop,\n",
    "    epsilon=pop_toleration,\n",
    "    node_repeats=2,\n",
    ")\n",
    "\n",
    "population_constraint = constraints.within_percent_of_ideal_population(\n",
    "    initial_partition, pop_toleration, pop_key=\"total population\"\n",
    ")"
   ]
  },
  {
   "cell_type": "code",
   "execution_count": 30,
   "id": "c7b59425-c1e7-46dc-aa7b-0b481b4bfcec",
   "metadata": {},
   "outputs": [],
   "source": [
    "# Create a Markov chain\n",
    "chain = MarkovChain(\n",
    "    proposal=proposal,\n",
    "    constraints=[population_constraint],\n",
    "    accept=always_accept,\n",
    "    initial_state=initial_partition,\n",
    "    total_steps=600,  # choosing 6000 because i tried 1,000 and it was not enough. also tried 10,000 and it was kinda similar to 6,000. so i decided to go with 6,000..\n",
    ")"
   ]
  },
  {
   "cell_type": "code",
   "execution_count": 31,
   "id": "91978ba9-e5c7-4e0f-b698-0e8b819c7d2c",
   "metadata": {
    "tags": []
   },
   "outputs": [],
   "source": [
    "for part in chain:\n",
    "    cutedge_ensemble.append(len(part[\"cut_edges\"]))\n",
    "    dem_ensemble.append(part[\"Dem\"].wins(\"Dem\"))"
   ]
  },
  {
   "cell_type": "code",
   "execution_count": 32,
   "id": "93913ca2-2aaf-4813-a5a4-a88165a622a7",
   "metadata": {},
   "outputs": [
    {
     "name": "stdout",
     "output_type": "stream",
     "text": [
      "The time of execution of above program is : 0.5926518122355143 mins\n"
     ]
    },
    {
     "data": {
      "image/png": "[encoded data removed]",
      "text/plain": [
       "<Figure size 432x288 with 1 Axes>"
      ]
     },
     "metadata": {
      "needs_background": "light"
     },
     "output_type": "display_data"
    },
    {
     "data": {
      "image/png": "[encoded data removed]",
      "text/plain": [
       "<Figure size 432x288 with 1 Axes>"
      ]
     },
     "metadata": {
      "needs_background": "light"
     },
     "output_type": "display_data"
    }
   ],
   "source": [
    "# Draw histogram of number of cut edges in the plan\n",
    "plt.figure()\n",
    "plt.hist(cutedge_ensemble, align=\"left\")\n",
    "plt.xlabel(\"Number of cut edges\")\n",
    "plt.ylabel(\"Frequency\")\n",
    "plt.savefig(\"cutedge_ensemble.png\")\n",
    "\n",
    "# Draw histogram of number of districts won by Democrats\n",
    "plt.figure()\n",
    "plt.hist(dem_ensemble, align=\"left\")\n",
    "plt.xlabel(\"Number of districts won by Democrats\")\n",
    "plt.ylabel(\"Frequency\")\n",
    "plt.savefig(\"democrate_ensemble.png\")\n",
    "\n",
    "end_time = time.time()\n",
    "print(\"The time of execution of above program is :\",\n",
    "      (end_time-start_time)/60, \"mins\")"
   ]
  },
  {
   "cell_type": "markdown",
   "id": "2d84b73b-52ae-446d-a1d7-0dc1bc5572be",
   "metadata": {},
   "source": [
    "# SEND"
   ]
  },
  {
   "cell_type": "code",
   "execution_count": 33,
   "id": "1c8294b7-9e78-4455-9f1d-e7e0943cb5a4",
   "metadata": {},
   "outputs": [
    {
     "name": "stdout",
     "output_type": "stream",
     "text": [
      "<Partition [35 parts]>\n"
     ]
    }
   ],
   "source": [
    "cutedge_ensemble = []\n",
    "dem_ensemble = []\n",
    "\n",
    "# Create an initial partition\n",
    "initial_partition = Partition(\n",
    "    il_graph,\n",
    "    assignment=\"SEND\", # change it to SEND / HDIST\n",
    "    updaters={\n",
    "        \"Dem\": Election(\n",
    "            \"2016 presidential\", {\"Dem\": \"PRE16D\", \"Rep\": \"PRE16R\"}, alias=\"Dem\"\n",
    "        ),\n",
    "        \"total population\": Tally(\"TOTPOP\", alias=\"total population\"),\n",
    "        \"latino population\": Tally(\"HISP\", alias=\"latino population\"),\n",
    "        \"cut_edges\": cut_edges,\n",
    "    },\n",
    ")\n",
    "\n",
    "print(initial_partition)"
   ]
  },
  {
   "cell_type": "code",
   "execution_count": 34,
   "id": "96b16df4-d374-46e8-975d-4afb7d1804a2",
   "metadata": {},
   "outputs": [],
   "source": [
    "num_dist = len(initial_partition)\n",
    "total_pop = sum([il_graph.nodes()[v][\"TOTPOP\"] for v in il_graph.nodes()])\n",
    "ideal_pop = total_pop / num_dist\n",
    "pop_toleration = 0.5"
   ]
  },
  {
   "cell_type": "code",
   "execution_count": 35,
   "id": "c3d86641-c1f4-42ef-9457-cc95de85779e",
   "metadata": {},
   "outputs": [],
   "source": [
    "# Create a proposal\n",
    "proposal = partial(\n",
    "    recom,\n",
    "    pop_col=\"TOTPOP\",\n",
    "    pop_target=ideal_pop,\n",
    "    epsilon=pop_toleration,\n",
    "    node_repeats=2,\n",
    ")\n",
    "\n",
    "population_constraint = constraints.within_percent_of_ideal_population(\n",
    "    initial_partition, pop_toleration, pop_key=\"total population\"\n",
    ")"
   ]
  },
  {
   "cell_type": "code",
   "execution_count": 36,
   "id": "971e91ac-29bc-47d8-9e20-1823f34499e8",
   "metadata": {},
   "outputs": [],
   "source": [
    "# Create a Markov chain\n",
    "chain = MarkovChain(\n",
    "    proposal=proposal,\n",
    "    constraints=[population_constraint],\n",
    "    accept=always_accept,\n",
    "    initial_state=initial_partition,\n",
    "    total_steps=600,  # choosing 6000 because i tried 1,000 and it was not enough. also tried 10,000 and it was kinda similar to 6,000. so i decided to go with 6,000..\n",
    ")"
   ]
  },
  {
   "cell_type": "code",
   "execution_count": 37,
   "id": "31c47a27-cfb1-4c2e-a0df-06d5d8f2a079",
   "metadata": {},
   "outputs": [],
   "source": [
    "for part in chain:\n",
    "    cutedge_ensemble.append(len(part[\"cut_edges\"]))\n",
    "    dem_ensemble.append(part[\"Dem\"].wins(\"Dem\"))"
   ]
  },
  {
   "cell_type": "code",
   "execution_count": 38,
   "id": "e4b443a5-9603-4aed-8030-8f6c9de70217",
   "metadata": {},
   "outputs": [
    {
     "name": "stdout",
     "output_type": "stream",
     "text": [
      "The time of execution of above program is : 0.6608768979708354 mins\n"
     ]
    },
    {
     "data": {
      "image/png": "[encoded data removed]",
      "text/plain": [
       "<Figure size 432x288 with 1 Axes>"
      ]
     },
     "metadata": {
      "needs_background": "light"
     },
     "output_type": "display_data"
    },
    {
     "data": {
      "image/png": "[encoded data removed]",
      "text/plain": [
       "<Figure size 432x288 with 1 Axes>"
      ]
     },
     "metadata": {
      "needs_background": "light"
     },
     "output_type": "display_data"
    }
   ],
   "source": [
    "# Draw histogram of number of cut edges in the plan\n",
    "plt.figure()\n",
    "plt.hist(cutedge_ensemble, align=\"left\")\n",
    "plt.xlabel(\"Number of cut edges\")\n",
    "plt.ylabel(\"Frequency\")\n",
    "plt.savefig(\"cutedge_ensemble.png\")\n",
    "\n",
    "# Draw histogram of number of districts won by Democrats\n",
    "plt.figure()\n",
    "plt.hist(dem_ensemble, align=\"left\")\n",
    "plt.xlabel(\"Number of districts won by Democrats\")\n",
    "plt.ylabel(\"Frequency\")\n",
    "plt.savefig(\"democrate_ensemble.png\")\n",
    "\n",
    "end_time = time.time()\n",
    "print(\"The time of execution of above program is :\",\n",
    "      (end_time-start_time)/60, \"mins\")"
   ]
  },
  {
   "cell_type": "markdown",
   "id": "4d835c9e-535b-41af-96fe-03c7dab8943c",
   "metadata": {},
   "source": [
    "# HDIST"
   ]
  },
  {
   "cell_type": "code",
   "execution_count": 39,
   "id": "c3e11d29-7614-4ffb-ac5f-1f34c8c1f72c",
   "metadata": {},
   "outputs": [
    {
     "name": "stdout",
     "output_type": "stream",
     "text": [
      "<Partition [135 parts]>\n"
     ]
    }
   ],
   "source": [
    "cutedge_ensemble = []\n",
    "dem_ensemble = []\n",
    "\n",
    "\n",
    "# Create an initial partition\n",
    "initial_partition = Partition(\n",
    "    il_graph,\n",
    "    assignment=\"HDIST\", # change it to SEND / HDIST\n",
    "    updaters={\n",
    "        \"Dem\": Election(\n",
    "            \"2016 presidential\", {\"Dem\": \"PRE16D\", \"Rep\": \"PRE16R\"}, alias=\"Dem\"\n",
    "        ),\n",
    "        \"total population\": Tally(\"TOTPOP\", alias=\"total population\"),\n",
    "        \"latino population\": Tally(\"HISP\", alias=\"latino population\"),\n",
    "        \"cut_edges\": cut_edges,\n",
    "    },\n",
    ")\n",
    "\n",
    "print(initial_partition)"
   ]
  },
  {
   "cell_type": "code",
   "execution_count": 84,
   "id": "4910ec8d-c982-4e91-bb1f-b8234b2debb3",
   "metadata": {},
   "outputs": [],
   "source": [
    "num_dist = len(initial_partition)\n",
    "total_pop = sum([il_graph.nodes()[v][\"TOTPOP\"] for v in il_graph.nodes()])\n",
    "ideal_pop = total_pop / num_dist\n",
    "pop_toleration = 0.9"
   ]
  },
  {
   "cell_type": "code",
   "execution_count": 85,
   "id": "49a2b1cb-64da-4866-8ace-ff56219c86af",
   "metadata": {},
   "outputs": [],
   "source": [
    "# Create a proposal\n",
    "proposal = partial(\n",
    "    recom,\n",
    "    pop_col=\"TOTPOP\",\n",
    "    pop_target=ideal_pop,\n",
    "    epsilon=pop_toleration,\n",
    "    node_repeats=2,\n",
    ")\n",
    "\n",
    "population_constraint = constraints.within_percent_of_ideal_population(\n",
    "    initial_partition, pop_toleration, pop_key=\"total population\"\n",
    ")"
   ]
  },
  {
   "cell_type": "code",
   "execution_count": 86,
   "id": "6bce63ad-0c37-4740-9938-9d678e80638e",
   "metadata": {},
   "outputs": [
    {
     "ename": "ValueError",
     "evalue": "The given initial_state is not valid according is_valid. The failed constraints were: Bounds(population,(1009.1548148148145, 19173.94148148148))",
     "output_type": "error",
     "traceback": [
      "\u001b[0;31m---------------------------------------------------------------------------\u001b[0m",
      "\u001b[0;31mValueError\u001b[0m                                Traceback (most recent call last)",
      "Input \u001b[0;32mIn [86]\u001b[0m, in \u001b[0;36m<cell line: 2>\u001b[0;34m()\u001b[0m\n\u001b[1;32m      1\u001b[0m \u001b[38;5;66;03m# Create a Markov chain\u001b[39;00m\n\u001b[0;32m----> 2\u001b[0m chain \u001b[38;5;241m=\u001b[39m \u001b[43mMarkovChain\u001b[49m\u001b[43m(\u001b[49m\n\u001b[1;32m      3\u001b[0m \u001b[43m    \u001b[49m\u001b[43mproposal\u001b[49m\u001b[38;5;241;43m=\u001b[39;49m\u001b[43mproposal\u001b[49m\u001b[43m,\u001b[49m\n\u001b[1;32m      4\u001b[0m \u001b[43m    \u001b[49m\u001b[43mconstraints\u001b[49m\u001b[38;5;241;43m=\u001b[39;49m\u001b[43m[\u001b[49m\u001b[43mpopulation_constraint\u001b[49m\u001b[43m]\u001b[49m\u001b[43m,\u001b[49m\n\u001b[1;32m      5\u001b[0m \u001b[43m    \u001b[49m\u001b[43maccept\u001b[49m\u001b[38;5;241;43m=\u001b[39;49m\u001b[43malways_accept\u001b[49m\u001b[43m,\u001b[49m\n\u001b[1;32m      6\u001b[0m \u001b[43m    \u001b[49m\u001b[43minitial_state\u001b[49m\u001b[38;5;241;43m=\u001b[39;49m\u001b[43minitial_partition\u001b[49m\u001b[43m,\u001b[49m\n\u001b[1;32m      7\u001b[0m \u001b[43m    \u001b[49m\u001b[43mtotal_steps\u001b[49m\u001b[38;5;241;43m=\u001b[39;49m\u001b[38;5;241;43m600\u001b[39;49m\u001b[43m,\u001b[49m\u001b[43m  \u001b[49m\u001b[38;5;66;43;03m# choosing 6000 because i tried 1,000 and it was not enough. also tried 10,000 and it was kinda similar to 6,000. so i decided to go with 6,000..\u001b[39;49;00m\n\u001b[1;32m      8\u001b[0m \u001b[43m)\u001b[49m\n",
      "File \u001b[0;32m/opt/anaconda3/lib/python3.9/site-packages/gerrychain/chain.py:95\u001b[0m, in \u001b[0;36mMarkovChain.__init__\u001b[0;34m(self, proposal, constraints, accept, initial_state, total_steps)\u001b[0m\n\u001b[1;32m     86\u001b[0m     failed \u001b[38;5;241m=\u001b[39m [\n\u001b[1;32m     87\u001b[0m         constraint\n\u001b[1;32m     88\u001b[0m         \u001b[38;5;28;01mfor\u001b[39;00m constraint \u001b[38;5;129;01min\u001b[39;00m is_valid\u001b[38;5;241m.\u001b[39mconstraints  \u001b[38;5;66;03m# type: ignore\u001b[39;00m\n\u001b[1;32m     89\u001b[0m         \u001b[38;5;28;01mif\u001b[39;00m \u001b[38;5;129;01mnot\u001b[39;00m constraint(initial_state)\n\u001b[1;32m     90\u001b[0m     ]\n\u001b[1;32m     91\u001b[0m     message \u001b[38;5;241m=\u001b[39m (\n\u001b[1;32m     92\u001b[0m         \u001b[38;5;124m\"\u001b[39m\u001b[38;5;124mThe given initial_state is not valid according is_valid. \u001b[39m\u001b[38;5;124m\"\u001b[39m\n\u001b[1;32m     93\u001b[0m         \u001b[38;5;124m\"\u001b[39m\u001b[38;5;124mThe failed constraints were: \u001b[39m\u001b[38;5;124m\"\u001b[39m \u001b[38;5;241m+\u001b[39m \u001b[38;5;124m\"\u001b[39m\u001b[38;5;124m,\u001b[39m\u001b[38;5;124m\"\u001b[39m\u001b[38;5;241m.\u001b[39mjoin([f\u001b[38;5;241m.\u001b[39m\u001b[38;5;18m__name__\u001b[39m \u001b[38;5;28;01mfor\u001b[39;00m f \u001b[38;5;129;01min\u001b[39;00m failed])\n\u001b[1;32m     94\u001b[0m     )\n\u001b[0;32m---> 95\u001b[0m     \u001b[38;5;28;01mraise\u001b[39;00m \u001b[38;5;167;01mValueError\u001b[39;00m(message)\n\u001b[1;32m     97\u001b[0m \u001b[38;5;28mself\u001b[39m\u001b[38;5;241m.\u001b[39mproposal \u001b[38;5;241m=\u001b[39m proposal\n\u001b[1;32m     98\u001b[0m \u001b[38;5;28mself\u001b[39m\u001b[38;5;241m.\u001b[39mis_valid \u001b[38;5;241m=\u001b[39m is_valid\n",
      "\u001b[0;31mValueError\u001b[0m: The given initial_state is not valid according is_valid. The failed constraints were: Bounds(population,(1009.1548148148145, 19173.94148148148))"
     ]
    }
   ],
   "source": [
    "# Create a Markov chain\n",
    "chain = MarkovChain(\n",
    "    proposal=proposal,\n",
    "    constraints=[population_constraint],\n",
    "    accept=always_accept,\n",
    "    initial_state=initial_partition,\n",
    "    total_steps=600,  # choosing 6000 because i tried 1,000 and it was not enough. also tried 10,000 and it was kinda similar to 6,000. so i decided to go with 6,000..\n",
    ")"
   ]
  },
  {
   "cell_type": "code",
   "execution_count": 87,
   "id": "1f199de9-0a14-4388-abd2-158a265ce83e",
   "metadata": {},
   "outputs": [
    {
     "ename": "IndexError",
     "evalue": "string index out of range",
     "output_type": "error",
     "traceback": [
      "\u001b[0;31m---------------------------------------------------------------------------\u001b[0m",
      "\u001b[0;31mIndexError\u001b[0m                                Traceback (most recent call last)",
      "Input \u001b[0;32mIn [87]\u001b[0m, in \u001b[0;36m<cell line: 1>\u001b[0;34m()\u001b[0m\n\u001b[1;32m      1\u001b[0m \u001b[38;5;28;01mfor\u001b[39;00m part \u001b[38;5;129;01min\u001b[39;00m chain:\n\u001b[1;32m      2\u001b[0m     cutedge_ensemble\u001b[38;5;241m.\u001b[39mappend(\u001b[38;5;28mlen\u001b[39m(part[\u001b[38;5;124m\"\u001b[39m\u001b[38;5;124mcut_edges\u001b[39m\u001b[38;5;124m\"\u001b[39m]))\n\u001b[0;32m----> 3\u001b[0m     dem_ensemble\u001b[38;5;241m.\u001b[39mappend(\u001b[43mpart\u001b[49m\u001b[43m[\u001b[49m\u001b[38;5;124;43m\"\u001b[39;49m\u001b[38;5;124;43mDem\u001b[39;49m\u001b[38;5;124;43m\"\u001b[39;49m\u001b[43m]\u001b[49m\u001b[38;5;241m.\u001b[39mwins(\u001b[38;5;124m\"\u001b[39m\u001b[38;5;124mDem\u001b[39m\u001b[38;5;124m\"\u001b[39m))\n",
      "File \u001b[0;32m/opt/anaconda3/lib/python3.9/site-packages/gerrychain/partition/partition.py:153\u001b[0m, in \u001b[0;36mPartition.__getitem__\u001b[0;34m(self, key)\u001b[0m\n\u001b[1;32m    142\u001b[0m \u001b[38;5;250m\u001b[39m\u001b[38;5;124;03m\"\"\"\u001b[39;00m\n\u001b[1;32m    143\u001b[0m \u001b[38;5;124;03mAllows accessing the values of updaters computed for this\u001b[39;00m\n\u001b[1;32m    144\u001b[0m \u001b[38;5;124;03mPartition instance.\u001b[39;00m\n\u001b[0;32m   (...)\u001b[0m\n\u001b[1;32m    150\u001b[0m \u001b[38;5;124;03m:rtype: Any\u001b[39;00m\n\u001b[1;32m    151\u001b[0m \u001b[38;5;124;03m\"\"\"\u001b[39;00m\n\u001b[1;32m    152\u001b[0m \u001b[38;5;28;01mif\u001b[39;00m key \u001b[38;5;129;01mnot\u001b[39;00m \u001b[38;5;129;01min\u001b[39;00m \u001b[38;5;28mself\u001b[39m\u001b[38;5;241m.\u001b[39m_cache:\n\u001b[0;32m--> 153\u001b[0m     \u001b[38;5;28mself\u001b[39m\u001b[38;5;241m.\u001b[39m_cache[key] \u001b[38;5;241m=\u001b[39m \u001b[38;5;28;43mself\u001b[39;49m\u001b[38;5;241;43m.\u001b[39;49m\u001b[43mupdaters\u001b[49m\u001b[43m[\u001b[49m\u001b[43mkey\u001b[49m\u001b[43m]\u001b[49m\u001b[43m(\u001b[49m\u001b[38;5;28;43mself\u001b[39;49m\u001b[43m)\u001b[49m\n\u001b[1;32m    154\u001b[0m \u001b[38;5;28;01mreturn\u001b[39;00m \u001b[38;5;28mself\u001b[39m\u001b[38;5;241m.\u001b[39m_cache[key]\n",
      "File \u001b[0;32m/opt/anaconda3/lib/python3.9/site-packages/gerrychain/updaters/election.py:122\u001b[0m, in \u001b[0;36mElection.__call__\u001b[0;34m(self, *args, **kwargs)\u001b[0m\n\u001b[1;32m    121\u001b[0m \u001b[38;5;28;01mdef\u001b[39;00m \u001b[38;5;21m__call__\u001b[39m(\u001b[38;5;28mself\u001b[39m, \u001b[38;5;241m*\u001b[39margs, \u001b[38;5;241m*\u001b[39m\u001b[38;5;241m*\u001b[39mkwargs):\n\u001b[0;32m--> 122\u001b[0m     \u001b[38;5;28;01mreturn\u001b[39;00m \u001b[38;5;28;43mself\u001b[39;49m\u001b[38;5;241;43m.\u001b[39;49m\u001b[43mupdater\u001b[49m\u001b[43m(\u001b[49m\u001b[38;5;241;43m*\u001b[39;49m\u001b[43margs\u001b[49m\u001b[43m,\u001b[49m\u001b[43m \u001b[49m\u001b[38;5;241;43m*\u001b[39;49m\u001b[38;5;241;43m*\u001b[39;49m\u001b[43mkwargs\u001b[49m\u001b[43m)\u001b[49m\n",
      "File \u001b[0;32m/opt/anaconda3/lib/python3.9/site-packages/gerrychain/updaters/election.py:143\u001b[0m, in \u001b[0;36mElectionUpdater.__call__\u001b[0;34m(self, partition)\u001b[0m\n\u001b[1;32m    140\u001b[0m parties \u001b[38;5;241m=\u001b[39m \u001b[38;5;28mself\u001b[39m\u001b[38;5;241m.\u001b[39melection\u001b[38;5;241m.\u001b[39mparties\n\u001b[1;32m    141\u001b[0m tallies \u001b[38;5;241m=\u001b[39m \u001b[38;5;28mself\u001b[39m\u001b[38;5;241m.\u001b[39melection\u001b[38;5;241m.\u001b[39mtallies\n\u001b[0;32m--> 143\u001b[0m counts \u001b[38;5;241m=\u001b[39m {\n\u001b[1;32m    144\u001b[0m     party: tallies[party](partition, previous\u001b[38;5;241m=\u001b[39mprevious_totals_for_party[party])\n\u001b[1;32m    145\u001b[0m     \u001b[38;5;28;01mfor\u001b[39;00m party \u001b[38;5;129;01min\u001b[39;00m parties\n\u001b[1;32m    146\u001b[0m }\n\u001b[1;32m    148\u001b[0m \u001b[38;5;28;01mreturn\u001b[39;00m ElectionResults(\u001b[38;5;28mself\u001b[39m\u001b[38;5;241m.\u001b[39melection, counts, regions\u001b[38;5;241m=\u001b[39mpartition\u001b[38;5;241m.\u001b[39mparts)\n",
      "File \u001b[0;32m/opt/anaconda3/lib/python3.9/site-packages/gerrychain/updaters/election.py:144\u001b[0m, in \u001b[0;36m<dictcomp>\u001b[0;34m(.0)\u001b[0m\n\u001b[1;32m    140\u001b[0m parties \u001b[38;5;241m=\u001b[39m \u001b[38;5;28mself\u001b[39m\u001b[38;5;241m.\u001b[39melection\u001b[38;5;241m.\u001b[39mparties\n\u001b[1;32m    141\u001b[0m tallies \u001b[38;5;241m=\u001b[39m \u001b[38;5;28mself\u001b[39m\u001b[38;5;241m.\u001b[39melection\u001b[38;5;241m.\u001b[39mtallies\n\u001b[1;32m    143\u001b[0m counts \u001b[38;5;241m=\u001b[39m {\n\u001b[0;32m--> 144\u001b[0m     party: \u001b[43mtallies\u001b[49m\u001b[43m[\u001b[49m\u001b[43mparty\u001b[49m\u001b[43m]\u001b[49m\u001b[43m(\u001b[49m\u001b[43mpartition\u001b[49m\u001b[43m,\u001b[49m\u001b[43m \u001b[49m\u001b[43mprevious\u001b[49m\u001b[38;5;241;43m=\u001b[39;49m\u001b[43mprevious_totals_for_party\u001b[49m\u001b[43m[\u001b[49m\u001b[43mparty\u001b[49m\u001b[43m]\u001b[49m\u001b[43m)\u001b[49m\n\u001b[1;32m    145\u001b[0m     \u001b[38;5;28;01mfor\u001b[39;00m party \u001b[38;5;129;01min\u001b[39;00m parties\n\u001b[1;32m    146\u001b[0m }\n\u001b[1;32m    148\u001b[0m \u001b[38;5;28;01mreturn\u001b[39;00m ElectionResults(\u001b[38;5;28mself\u001b[39m\u001b[38;5;241m.\u001b[39melection, counts, regions\u001b[38;5;241m=\u001b[39mpartition\u001b[38;5;241m.\u001b[39mparts)\n",
      "File \u001b[0;32m/opt/anaconda3/lib/python3.9/site-packages/gerrychain/updaters/tally.py:66\u001b[0m, in \u001b[0;36mDataTally.__call__\u001b[0;34m(self, partition, previous)\u001b[0m\n\u001b[1;32m     65\u001b[0m \u001b[38;5;28;01mdef\u001b[39;00m \u001b[38;5;21m__call__\u001b[39m(\u001b[38;5;28mself\u001b[39m, partition, previous\u001b[38;5;241m=\u001b[39m\u001b[38;5;28;01mNone\u001b[39;00m):\n\u001b[0;32m---> 66\u001b[0m     \u001b[38;5;28;01mreturn\u001b[39;00m \u001b[38;5;28;43mself\u001b[39;49m\u001b[38;5;241;43m.\u001b[39;49m\u001b[43m_call\u001b[49m\u001b[43m(\u001b[49m\u001b[43mpartition\u001b[49m\u001b[43m,\u001b[49m\u001b[43m \u001b[49m\u001b[43mprevious\u001b[49m\u001b[43m)\u001b[49m\n",
      "File \u001b[0;32m/opt/anaconda3/lib/python3.9/site-packages/gerrychain/updaters/flows.py:98\u001b[0m, in \u001b[0;36mon_flow.<locals>.decorator.<locals>.wrapped\u001b[0;34m(partition, previous)\u001b[0m\n\u001b[1;32m     95\u001b[0m new_values \u001b[38;5;241m=\u001b[39m previous\u001b[38;5;241m.\u001b[39mcopy()\n\u001b[1;32m     97\u001b[0m \u001b[38;5;28;01mfor\u001b[39;00m part, flow \u001b[38;5;129;01min\u001b[39;00m partition\u001b[38;5;241m.\u001b[39mflows\u001b[38;5;241m.\u001b[39mitems():\n\u001b[0;32m---> 98\u001b[0m     new_values[part] \u001b[38;5;241m=\u001b[39m \u001b[43mfunction\u001b[49m\u001b[43m(\u001b[49m\n\u001b[1;32m     99\u001b[0m \u001b[43m        \u001b[49m\u001b[43mpartition\u001b[49m\u001b[43m,\u001b[49m\u001b[43m \u001b[49m\u001b[43mprevious\u001b[49m\u001b[43m[\u001b[49m\u001b[43mpart\u001b[49m\u001b[43m]\u001b[49m\u001b[43m,\u001b[49m\u001b[43m \u001b[49m\u001b[43mflow\u001b[49m\u001b[43m[\u001b[49m\u001b[38;5;124;43m\"\u001b[39;49m\u001b[38;5;124;43min\u001b[39;49m\u001b[38;5;124;43m\"\u001b[39;49m\u001b[43m]\u001b[49m\u001b[43m,\u001b[49m\u001b[43m \u001b[49m\u001b[43mflow\u001b[49m\u001b[43m[\u001b[49m\u001b[38;5;124;43m\"\u001b[39;49m\u001b[38;5;124;43mout\u001b[39;49m\u001b[38;5;124;43m\"\u001b[39;49m\u001b[43m]\u001b[49m\n\u001b[1;32m    100\u001b[0m \u001b[43m    \u001b[49m\u001b[43m)\u001b[49m\n\u001b[1;32m    102\u001b[0m \u001b[38;5;28;01mreturn\u001b[39;00m new_values\n",
      "File \u001b[0;32m/opt/anaconda3/lib/python3.9/site-packages/gerrychain/updaters/tally.py:59\u001b[0m, in \u001b[0;36mDataTally.__init__.<locals>.update_tally\u001b[0;34m(partition, previous, new_nodes, old_nodes)\u001b[0m\n\u001b[1;32m     57\u001b[0m \u001b[38;5;129m@on_flow\u001b[39m(initialize_tally, alias\u001b[38;5;241m=\u001b[39malias)\n\u001b[1;32m     58\u001b[0m \u001b[38;5;28;01mdef\u001b[39;00m \u001b[38;5;21mupdate_tally\u001b[39m(partition, previous, new_nodes, old_nodes):\n\u001b[0;32m---> 59\u001b[0m     inflow \u001b[38;5;241m=\u001b[39m \u001b[38;5;28;43msum\u001b[39;49m\u001b[43m(\u001b[49m\u001b[38;5;28;43mself\u001b[39;49m\u001b[38;5;241;43m.\u001b[39;49m\u001b[43mdata\u001b[49m\u001b[43m[\u001b[49m\u001b[43mnode\u001b[49m\u001b[43m]\u001b[49m\u001b[43m \u001b[49m\u001b[38;5;28;43;01mfor\u001b[39;49;00m\u001b[43m \u001b[49m\u001b[43mnode\u001b[49m\u001b[43m \u001b[49m\u001b[38;5;129;43;01min\u001b[39;49;00m\u001b[43m \u001b[49m\u001b[43mnew_nodes\u001b[49m\u001b[43m)\u001b[49m\n\u001b[1;32m     60\u001b[0m     outflow \u001b[38;5;241m=\u001b[39m \u001b[38;5;28msum\u001b[39m(\u001b[38;5;28mself\u001b[39m\u001b[38;5;241m.\u001b[39mdata[node] \u001b[38;5;28;01mfor\u001b[39;00m node \u001b[38;5;129;01min\u001b[39;00m old_nodes)\n\u001b[1;32m     61\u001b[0m     \u001b[38;5;28;01mreturn\u001b[39;00m previous \u001b[38;5;241m+\u001b[39m inflow \u001b[38;5;241m-\u001b[39m outflow\n",
      "File \u001b[0;32m/opt/anaconda3/lib/python3.9/site-packages/gerrychain/updaters/tally.py:59\u001b[0m, in \u001b[0;36m<genexpr>\u001b[0;34m(.0)\u001b[0m\n\u001b[1;32m     57\u001b[0m \u001b[38;5;129m@on_flow\u001b[39m(initialize_tally, alias\u001b[38;5;241m=\u001b[39malias)\n\u001b[1;32m     58\u001b[0m \u001b[38;5;28;01mdef\u001b[39;00m \u001b[38;5;21mupdate_tally\u001b[39m(partition, previous, new_nodes, old_nodes):\n\u001b[0;32m---> 59\u001b[0m     inflow \u001b[38;5;241m=\u001b[39m \u001b[38;5;28msum\u001b[39m(\u001b[38;5;28;43mself\u001b[39;49m\u001b[38;5;241;43m.\u001b[39;49m\u001b[43mdata\u001b[49m\u001b[43m[\u001b[49m\u001b[43mnode\u001b[49m\u001b[43m]\u001b[49m \u001b[38;5;28;01mfor\u001b[39;00m node \u001b[38;5;129;01min\u001b[39;00m new_nodes)\n\u001b[1;32m     60\u001b[0m     outflow \u001b[38;5;241m=\u001b[39m \u001b[38;5;28msum\u001b[39m(\u001b[38;5;28mself\u001b[39m\u001b[38;5;241m.\u001b[39mdata[node] \u001b[38;5;28;01mfor\u001b[39;00m node \u001b[38;5;129;01min\u001b[39;00m old_nodes)\n\u001b[1;32m     61\u001b[0m     \u001b[38;5;28;01mreturn\u001b[39;00m previous \u001b[38;5;241m+\u001b[39m inflow \u001b[38;5;241m-\u001b[39m outflow\n",
      "\u001b[0;31mIndexError\u001b[0m: string index out of range"
     ]
    }
   ],
   "source": [
    "for part in chain:\n",
    "    cutedge_ensemble.append(len(part[\"cut_edges\"]))\n",
    "    dem_ensemble.append(part[\"Dem\"].wins(\"Dem\"))"
   ]
  },
  {
   "cell_type": "code",
   "execution_count": 79,
   "id": "3c3061b4-c6e3-4903-a8ad-283cfbdfa241",
   "metadata": {},
   "outputs": [
    {
     "name": "stdout",
     "output_type": "stream",
     "text": [
      "The time of execution of above program is : 1.6521138628323873 mins\n"
     ]
    },
    {
     "data": {
      "image/png": "[encoded data removed]",
      "text/plain": [
       "<Figure size 432x288 with 1 Axes>"
      ]
     },
     "metadata": {
      "needs_background": "light"
     },
     "output_type": "display_data"
    },
    {
     "data": {
      "image/png": "[encoded data removed]",
      "text/plain": [
       "<Figure size 432x288 with 1 Axes>"
      ]
     },
     "metadata": {
      "needs_background": "light"
     },
     "output_type": "display_data"
    }
   ],
   "source": [
    "# Draw histogram of number of cut edges in the plan\n",
    "plt.figure()\n",
    "plt.hist(cutedge_ensemble, align=\"left\")\n",
    "plt.xlabel(\"Number of cut edges\")\n",
    "plt.ylabel(\"Frequency\")\n",
    "plt.savefig(\"cutedge_ensemble.png\")\n",
    "\n",
    "# Draw histogram of number of districts won by Democrats\n",
    "plt.figure()\n",
    "plt.hist(dem_ensemble, align=\"left\")\n",
    "plt.xlabel(\"Number of districts won by Democrats\")\n",
    "plt.ylabel(\"Frequency\")\n",
    "plt.savefig(\"democrate_ensemble.png\")\n",
    "\n",
    "end_time = time.time()\n",
    "print(\"The time of execution of above program is :\",\n",
    "      (end_time-start_time)/60, \"mins\")"
   ]
  },
  {
   "cell_type": "code",
   "execution_count": null,
   "id": "eb635f2f-590a-4c57-b9ed-542bae348737",
   "metadata": {},
   "outputs": [],
   "source": []
  }
 ],
 "metadata": {
  "kernelspec": {
   "display_name": "maup",
   "language": "python",
   "name": "maup"
  },
  "language_info": {
   "codemirror_mode": {
    "name": "ipython",
    "version": 3
   },
   "file_extension": ".py",
   "mimetype": "text/x-python",
   "name": "python",
   "nbconvert_exporter": "python",
   "pygments_lexer": "ipython3",
   "version": "3.9.12"
  }
 },
 "nbformat": 4,
 "nbformat_minor": 5
}
