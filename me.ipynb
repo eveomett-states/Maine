{
 "cells": [
  {
   "cell_type": "markdown",
   "id": "48a72edc-10d5-447e-bf59-a42b79b13098",
   "metadata": {},
   "source": [
    "# All the parameters that need to be changed"
   ]
  },
  {
   "cell_type": "code",
   "execution_count": 1,
   "id": "55545525-1a53-4366-88fa-4b4ecc94ecad",
   "metadata": {},
   "outputs": [],
   "source": [
    "# Maine\n",
    "state_ab = \"me\""
   ]
  },
  {
   "cell_type": "markdown",
   "id": "c3e1bdeb-55c5-4c10-83b5-de352e6d559d",
   "metadata": {
    "tags": []
   },
   "source": [
    "## Data\n",
    "1. Download all the data in directory \"il_data\"\n",
    "2. Eextract them all"
   ]
  },
  {
   "cell_type": "code",
   "execution_count": 4,
   "id": "1cbb32f0-472b-4441-abf2-6af58699cb5f",
   "metadata": {},
   "outputs": [],
   "source": [
    "data_folder = state_ab + \"_data/\"\n",
    "population1_data = \"./{}{}_pl2020_b/{}_pl2020_p1_b.shp\".format(data_folder, state_ab, state_ab)\n",
    "population2_data = \"./{}{}_pl2020_b/{}_pl2020_p2_b.shp\".format(data_folder, state_ab, state_ab)\n",
    "vap_data =  \"./{}{}_pl2020_b/{}_pl2020_p4_b.shp\".format(data_folder, state_ab, state_ab)\n",
    "vest20_data = \"./{}{}_vest_20/{}_vest_20.shp\".format(data_folder, state_ab, state_ab)\n",
    "vest18_data = \"./{}{}_vest_18/{}_vest_18.shp\".format(data_folder, state_ab, state_ab)\n",
    "vest16_data = \"./{}{}_vest_16/{}_vest_16.shp\".format(data_folder, state_ab, state_ab)\n",
    "cd_data = \"./{}{}_cong_adopted_2021/Maine_Voting_Districts_2021_US_Congress.shp\".format(data_folder, state_ab)\n",
    "send_data = \"./{}{}_sldu_adopted_2021/Maine_Voting_Districts_2021_State_Senate.shp\".format(data_folder, state_ab)\n",
    "hdist_data = \"./{}{}_sldl_adopted_2021/Maine_Voting_Districts_2021_House.shp\".format(data_folder, state_ab)"
   ]
  },
  {
   "cell_type": "markdown",
   "id": "2594a66a-efb1-443f-8b0a-b2c73257f1cc",
   "metadata": {},
   "source": [
    "## Parameters that needs to be manually checked\n",
    "\n",
    "### base vest data\n",
    "start_col = 5\\\n",
    "vest_base_data = vest20\\\n",
    "year = '20'\n",
    "\n",
    "### district data\n",
    "district column name of cong_df, send, hdist when calling add_dist()"
   ]
  },
  {
   "cell_type": "markdown",
   "id": "d9cfe42b-cfd8-4ad4-b255-31268cb35669",
   "metadata": {},
   "source": [
    "# Program starts"
   ]
  },
  {
   "cell_type": "code",
   "execution_count": 5,
   "id": "49a264d4-c255-4393-b5ae-74b6f7c645da",
   "metadata": {},
   "outputs": [
    {
     "name": "stderr",
     "output_type": "stream",
     "text": [
      "/opt/anaconda3/lib/python3.9/site-packages/pandas/core/computation/expressions.py:21: UserWarning: Pandas requires version '2.8.4' or newer of 'numexpr' (version '2.8.1' currently installed).\n",
      "  from pandas.core.computation.check import NUMEXPR_INSTALLED\n",
      "/opt/anaconda3/lib/python3.9/site-packages/pandas/core/arrays/masked.py:60: UserWarning: Pandas requires version '1.3.6' or newer of 'bottleneck' (version '1.3.4' currently installed).\n",
      "  from pandas.core import (\n"
     ]
    }
   ],
   "source": [
    "import pandas as pd\n",
    "import geopandas as gpd\n",
    "import maup\n",
    "import time\n",
    "from maup import smart_repair\n",
    "from gerrychain import Graph\n",
    "import os\n",
    "\n",
    "maup.progress.enabled = True"
   ]
  },
  {
   "cell_type": "code",
   "execution_count": 6,
   "id": "f78d28b6-abb4-4444-aa7e-f0eb73dab3f2",
   "metadata": {},
   "outputs": [],
   "source": [
    "import warnings\n",
    "warnings.filterwarnings(\"ignore\")"
   ]
  },
  {
   "cell_type": "code",
   "execution_count": 7,
   "id": "378425b3-9819-41bd-8212-2e031b571cf2",
   "metadata": {},
   "outputs": [],
   "source": [
    "def do_smart_repair(df):\n",
    "    # change it to the UTM it needs for smart_repair\n",
    "    df = df.to_crs(df.estimate_utm_crs())\n",
    "    df = smart_repair(df)\n",
    "    \n",
    "    # check maup doctor again to see if smart repair works\n",
    "    if maup.doctor(df) == True:\n",
    "        # change it back to this UTM for this data\n",
    "        df = df.to_crs('EPSG:4269')\n",
    "    else:\n",
    "        raise Exception('maup.doctor failed')\n",
    "    \n",
    "    return df"
   ]
  },
  {
   "cell_type": "code",
   "execution_count": 8,
   "id": "df3945da-c3af-41a8-9511-a5aba33fef0b",
   "metadata": {},
   "outputs": [],
   "source": [
    "def add_district(dist_df, dist_name, election_df, col_name):\n",
    "    # check if it needs to be smart_repair\n",
    "    if maup.doctor(dist_df) != True:\n",
    "        dist_df = do_smart_repair(dist_df)\n",
    "\n",
    "    election_df = gpd.GeoDataFrame(election_df, crs=\"EPSG:4269\")\n",
    "\n",
    "    # assigne the pricincts\n",
    "    precincts_to_district_assignment = maup.assign(election_df.geometry, dist_df.geometry)\n",
    "    election_df[dist_name] = precincts_to_district_assignment\n",
    "    for precinct_index in range(len(election_df)):\n",
    "        election_df.at[precinct_index, dist_name] = dist_df.at[election_df.at[precinct_index, dist_name], col_name]\n",
    "\n",
    "    return election_df"
   ]
  },
  {
   "cell_type": "code",
   "execution_count": 9,
   "id": "29c38a31-6707-4ab3-a9e4-38d69ce6838c",
   "metadata": {},
   "outputs": [],
   "source": [
    "def rename(original, year):\n",
    "    party = original[6]\n",
    "    if party == 'R' or party == 'D':\n",
    "        return original[3:6] + year + original[6]\n",
    "    else:\n",
    "        return original[3:6] + year + 'O'"
   ]
  },
  {
   "cell_type": "code",
   "execution_count": 10,
   "id": "9cbd02f8-308e-4fe9-804a-6bc8474b749b",
   "metadata": {},
   "outputs": [],
   "source": [
    "def check_population(population, df):\n",
    "    pop_check = pd.DataFrame({\n",
    "        'pop_col': pop_col,\n",
    "        'population_df': population[pop_col].sum(), \n",
    "        'vest_base': df[pop_col].sum(),\n",
    "        'equal': [x == y for x, y in zip(population[pop_col].sum(), df[pop_col].sum())]\n",
    "    })\n",
    "    if pop_check['equal'].mean() < 1:\n",
    "        print(pop_check)\n",
    "        raise Exception(\"population doesn't agree\")\n",
    "\n",
    "    else:\n",
    "        print(\"population agrees\")"
   ]
  },
  {
   "cell_type": "code",
   "execution_count": 11,
   "id": "c4508baf-84cd-4a31-97ad-059164232e8e",
   "metadata": {},
   "outputs": [],
   "source": [
    "def add_vest(vest, df, year, population, start_col):    \n",
    "     # check if it needs to be smart_repair\n",
    "    if maup.doctor(vest) != True:\n",
    "        vest = do_smart_repair(vest)\n",
    "    \n",
    "    # rename the columns\n",
    "    original_col = vest.columns[start_col:-1]\n",
    "    new_col = [rename(i, year) for i in original_col]\n",
    "    rename_dict = dict(zip(original_col, new_col))\n",
    "    vest = vest.rename(columns=rename_dict)\n",
    "    vest = vest.groupby(level=0, axis=1).sum() # combine all the other party's vote into columns with sufix \"O\"\n",
    "    col_name = list(set(new_col))\n",
    "    col_name.sort()\n",
    "    \n",
    "    # make the blocks from precincts by weight\n",
    "    vest = gpd.GeoDataFrame(vest, crs=\"EPSG:4269\")\n",
    "    election_in_block = population[[\"VAP\", 'geometry']] # population_df is in block scale\n",
    "    blocks_to_precincts_assignment = maup.assign(election_in_block.geometry, vest.geometry)\n",
    "    weights = election_in_block[\"VAP\"] / blocks_to_precincts_assignment.map(election_in_block[\"VAP\"].groupby(blocks_to_precincts_assignment).sum())\n",
    "    weights = weights.fillna(0)\n",
    "    prorated = maup.prorate(blocks_to_precincts_assignment, vest[col_name], weights)\n",
    "    election_in_block[col_name] = prorated\n",
    "    \n",
    "    # assign blocks to precincts\n",
    "    election_in_block = gpd.GeoDataFrame(election_in_block, crs=\"EPSG:4269\")\n",
    "    df = gpd.GeoDataFrame(df, crs=\"EPSG:4269\")\n",
    "    block_to_pricinct_assginment = maup.assign(election_in_block.geometry, df.geometry)\n",
    "    df[col_name] = election_in_block[col_name].groupby(block_to_pricinct_assginment).sum()\n",
    "    df = df.groupby(level=0, axis=1).sum()\n",
    "    \n",
    "    # check if population agrees\n",
    "    check_population(population, df)\n",
    "    \n",
    "    return df"
   ]
  },
  {
   "cell_type": "markdown",
   "id": "ab6ce8f5-f237-4d6c-8425-cd8a0b080f65",
   "metadata": {},
   "source": [
    "## Read the census data"
   ]
  },
  {
   "cell_type": "code",
   "execution_count": 12,
   "id": "185d2b84-d37f-4f24-86c1-1bcd0b4347e2",
   "metadata": {},
   "outputs": [],
   "source": [
    "population1_df = gpd.read_file(population1_data)\n",
    "population2_df = gpd.read_file(population2_data)\n",
    "vap_df = gpd.read_file(vap_data)"
   ]
  },
  {
   "cell_type": "code",
   "execution_count": 13,
   "id": "57b3b9bb-9721-469d-8eee-0dd5eb0e6015",
   "metadata": {},
   "outputs": [],
   "source": [
    "population2_df = population2_df.drop(columns=['SUMLEV', 'LOGRECNO', 'GEOID', 'COUNTY', 'geometry'])\n",
    "vap_df = vap_df.drop(columns=['SUMLEV', 'LOGRECNO', 'GEOID', 'COUNTY', 'geometry'])"
   ]
  },
  {
   "cell_type": "code",
   "execution_count": 14,
   "id": "daa935f7-bc02-4856-adb0-9cc9cf31ffca",
   "metadata": {},
   "outputs": [],
   "source": [
    "population_df = pd.merge(population1_df, population2_df, on='GEOID20')\n",
    "population_df = pd.merge(population_df, vap_df, on='GEOID20')"
   ]
  },
  {
   "cell_type": "code",
   "execution_count": 15,
   "id": "0845f50e-9920-404a-8284-c47df7b0f6ce",
   "metadata": {},
   "outputs": [],
   "source": [
    "rename_dict = {'P0020001': 'TOTPOP', 'P0020002': 'HISP', 'P0020005': 'NH_WHITE', 'P0020006': 'NH_BLACK', 'P0020007': 'NH_AMIN',\n",
    "               'P0020008': 'NH_ASIAN', 'P0020009': 'NH_NHPI', 'P0020010': 'NH_OTHER', 'P0020011': 'NH_2MORE',\n",
    "               'P0040001': 'VAP', 'P0040002': 'HVAP', 'P0040005': 'WVAP', 'P0040006': 'BVAP', 'P0040007': 'AMINVAP',\n",
    "               'P0040008': 'ASIANVAP', 'P0040009': 'NHPIVAP', 'P0040010': 'OTHERVAP', 'P0040011': '2MOREVAP'}"
   ]
  },
  {
   "cell_type": "code",
   "execution_count": 16,
   "id": "4d4f9723-ad23-46ff-bbd0-8d4ab628b69b",
   "metadata": {},
   "outputs": [],
   "source": [
    "population_df.rename(columns=rename_dict, inplace = True)"
   ]
  },
  {
   "cell_type": "code",
   "execution_count": 17,
   "id": "9550a841-5692-4d5f-a7f1-131d53eb9f12",
   "metadata": {},
   "outputs": [],
   "source": [
    "population_df['H_WHITE'] = population_df.apply(lambda t: t['P0010003'] - t['NH_WHITE'], 1)\n",
    "population_df['H_BLACK'] = population_df.apply(lambda t: t['P0010004'] - t['NH_BLACK'], 1)\n",
    "population_df['H_AMIN'] = population_df.apply(lambda t: t['P0010005'] - t['NH_AMIN'], 1)\n",
    "population_df['H_ASIAN'] = population_df.apply(lambda t: t['P0010006'] - t['NH_ASIAN'], 1)\n",
    "population_df['H_NHPI'] = population_df.apply(lambda t: t['P0010007'] - t['NH_NHPI'], 1)\n",
    "population_df['H_OTHER'] = population_df.apply(lambda t: t['P0010008'] - t['NH_OTHER'], 1)\n",
    "population_df['H_2MORE'] = population_df.apply(lambda t: t['P0010009'] - t['NH_2MORE'], 1)"
   ]
  },
  {
   "cell_type": "markdown",
   "id": "e1e89689-06e1-4937-9bee-b0442bfc33d5",
   "metadata": {},
   "source": [
    "# Read the base vest data\n",
    "Now using it as a \"base precinct\", but it could be vest 18 or vest 16 if vest 20 is not working"
   ]
  },
  {
   "cell_type": "code",
   "execution_count": 18,
   "id": "9f3f7fd2-4b38-4b7f-8352-b960681a83c0",
   "metadata": {},
   "outputs": [],
   "source": [
    "def add_vest_base(vest, start_col, year):\n",
    "    original_col = vest.columns[start_col:-1]\n",
    "    new_col = [rename(i, year) for i in original_col]\n",
    "    rename_dict = dict(zip(original_col, new_col))\n",
    "    vest = vest.rename(columns=rename_dict)\n",
    "    vest = vest.groupby(level=0, axis=1).sum()\n",
    "    vest = gpd.GeoDataFrame(vest, crs=\"EPSG:4269\")\n",
    "    \n",
    "    return vest"
   ]
  },
  {
   "cell_type": "markdown",
   "id": "bcfb3af1-db89-4463-98d8-3a0192067bb4",
   "metadata": {},
   "source": [
    "### Check if vest 20 can be used as base"
   ]
  },
  {
   "cell_type": "code",
   "execution_count": 19,
   "id": "397e9936-bfde-4b09-9dcb-207733dfb2dd",
   "metadata": {},
   "outputs": [],
   "source": [
    "vest20 = gpd.read_file(vest20_data)"
   ]
  },
  {
   "cell_type": "code",
   "execution_count": 20,
   "id": "dabe5bd2-39a8-40a6-93dc-a989a4c702b6",
   "metadata": {},
   "outputs": [
    {
     "name": "stderr",
     "output_type": "stream",
     "text": [
      "100%|██████████████████████████████████████████| 573/573 [00:02<00:00, 191.33it/s]\n"
     ]
    },
    {
     "name": "stdout",
     "output_type": "stream",
     "text": [
      "There are 31 overlaps.\n",
      "Snapping all geometries to a grid with precision 10^( -5 ) to avoid GEOS errors.\n",
      "Identifying overlaps...\n"
     ]
    },
    {
     "name": "stderr",
     "output_type": "stream",
     "text": [
      "100%|█████████████████████████████████████████| 727/727 [00:00<00:00, 1336.81it/s]\n"
     ]
    },
    {
     "name": "stdout",
     "output_type": "stream",
     "text": [
      "Resolving overlaps...\n",
      "Assigning order 2 pieces...\n",
      "Filling gaps...\n"
     ]
    },
    {
     "name": "stderr",
     "output_type": "stream",
     "text": [
      "Gaps to simplify: 0it [00:00, ?it/s]\n",
      "Gaps to fill: 0it [00:00, ?it/s]\n",
      "100%|██████████████████████████████████████████| 573/573 [00:02<00:00, 202.22it/s]\n"
     ]
    }
   ],
   "source": [
    "if maup.doctor(vest20) != True:\n",
    "    vest20 = do_smart_repair(vest20)"
   ]
  },
  {
   "cell_type": "markdown",
   "id": "20718edd-b876-4d8d-8509-5eeee4b9b9be",
   "metadata": {},
   "source": [
    "### If it is true for maup doctor, we will use it as the base vest data.\n",
    "Check where the election column starts, this should be the same for all vest data in that state"
   ]
  },
  {
   "cell_type": "code",
   "execution_count": 21,
   "id": "2d744be1-7568-4b94-a383-17d219ac128b",
   "metadata": {},
   "outputs": [
    {
     "data": {
      "text/plain": [
       "Index(['STATEFP20', 'COUNTY20', 'NAME20', 'G20PREDBID', 'G20PRERTRU',\n",
       "       'G20PRELJOR', 'G20PREGHAW', 'G20PREAFUE', 'G20USSDGID', 'G20USSRCOL',\n",
       "       'G20USSISAV', 'G20USSILIN', 'geometry'],\n",
       "      dtype='object')"
      ]
     },
     "execution_count": 21,
     "metadata": {},
     "output_type": "execute_result"
    }
   ],
   "source": [
    "vest20.columns"
   ]
  },
  {
   "cell_type": "markdown",
   "id": "65620cab-599f-4232-818e-e85846d02694",
   "metadata": {},
   "source": [
    "## Parameters that need to be checked"
   ]
  },
  {
   "cell_type": "code",
   "execution_count": 22,
   "id": "4200a0f8-29dd-42f9-96e4-ff27188ce32a",
   "metadata": {},
   "outputs": [],
   "source": [
    "start_col = 3\n",
    "vest_base_data = vest20\n",
    "year = '20'"
   ]
  },
  {
   "cell_type": "code",
   "execution_count": 23,
   "id": "728420ec-9df2-4771-ae4c-1832fe3fb12f",
   "metadata": {},
   "outputs": [],
   "source": [
    "vest_base = add_vest_base(vest_base_data, start_col, year)"
   ]
  },
  {
   "cell_type": "code",
   "execution_count": 24,
   "id": "10e48467-d392-4312-b15f-bf18106f354c",
   "metadata": {},
   "outputs": [
    {
     "name": "stderr",
     "output_type": "stream",
     "text": [
      "100%|██████████████████████████████████████████| 573/573 [00:02<00:00, 271.54it/s]\n",
      "100%|███████████████████████████████████████████| 573/573 [00:36<00:00, 15.61it/s]\n"
     ]
    }
   ],
   "source": [
    "# vap and population have the same GEOID20\n",
    "blocks_to_precincts_assignment = maup.assign(population_df.geometry, vest_base.geometry)"
   ]
  },
  {
   "cell_type": "code",
   "execution_count": 25,
   "id": "ac015a92-391c-48c4-b26a-5c511b58e3ab",
   "metadata": {},
   "outputs": [],
   "source": [
    "pop_col = ['TOTPOP', 'HISP', 'NH_WHITE', 'NH_BLACK', 'NH_AMIN', 'NH_ASIAN', 'NH_NHPI', 'NH_OTHER', 'NH_2MORE', 'H_WHITE', 'H_BLACK', 'H_AMIN', 'H_ASIAN', 'H_NHPI', 'H_OTHER', 'H_2MORE', 'VAP', 'HVAP', 'WVAP', 'BVAP', 'AMINVAP', 'ASIANVAP', 'NHPIVAP', 'OTHERVAP', '2MOREVAP']"
   ]
  },
  {
   "cell_type": "code",
   "execution_count": 26,
   "id": "f91b6866-727d-40c9-9d43-4a0e6ae8c0e2",
   "metadata": {},
   "outputs": [],
   "source": [
    "vest_base[pop_col] = population_df[pop_col].groupby(blocks_to_precincts_assignment).sum()"
   ]
  },
  {
   "cell_type": "code",
   "execution_count": 27,
   "id": "ead5880d-f5f1-44f0-8024-ff4789ff2f15",
   "metadata": {},
   "outputs": [],
   "source": [
    "election_df = gpd.GeoDataFrame(vest_base, crs=\"EPSG:4269\")"
   ]
  },
  {
   "cell_type": "markdown",
   "id": "cf1aefdb-30e0-4d1f-9261-01a513f4e1d3",
   "metadata": {},
   "source": [
    "### Check if the population agrees"
   ]
  },
  {
   "cell_type": "code",
   "execution_count": 28,
   "id": "d6ff200d-d1d6-4f7d-ba3b-142cddc0eb85",
   "metadata": {},
   "outputs": [
    {
     "name": "stdout",
     "output_type": "stream",
     "text": [
      "population agrees\n"
     ]
    }
   ],
   "source": [
    "check_population(population_df, vest_base)"
   ]
  },
  {
   "cell_type": "markdown",
   "id": "2b677d1a-cbe3-47aa-ae8a-761d0dfc7ad1",
   "metadata": {},
   "source": [
    "# Add more vest data"
   ]
  },
  {
   "cell_type": "code",
   "execution_count": 31,
   "id": "a404637a-46a1-41f4-bd81-6842a9a7274c",
   "metadata": {},
   "outputs": [],
   "source": [
    "vest18 = gpd.read_file(vest18_data)"
   ]
  },
  {
   "cell_type": "code",
   "execution_count": 32,
   "id": "d94c3765-b784-4e9b-9b29-0c8a3bbdbf0d",
   "metadata": {},
   "outputs": [
    {
     "data": {
      "text/plain": [
       "Index(['STATEFP', 'COUNTYFP', 'NAME', 'G18GOVDMIL', 'G18GOVRMOO', 'G18GOVIHAY',\n",
       "       'G18GOVOWRI', 'G18USSDRIN', 'G18USSRBRA', 'G18USSIKIN', 'G18USSOWRI',\n",
       "       'geometry'],\n",
       "      dtype='object')"
      ]
     },
     "execution_count": 32,
     "metadata": {},
     "output_type": "execute_result"
    }
   ],
   "source": [
    "vest18.columns"
   ]
  },
  {
   "cell_type": "code",
   "execution_count": 33,
   "id": "5528f64a-1b5c-4b9f-b7cf-aefa45d4d25f",
   "metadata": {},
   "outputs": [
    {
     "name": "stderr",
     "output_type": "stream",
     "text": [
      "100%|██████████████████████████████████████████| 608/608 [00:02<00:00, 214.81it/s]\n"
     ]
    },
    {
     "name": "stdout",
     "output_type": "stream",
     "text": [
      "There are 32 overlaps.\n",
      "Snapping all geometries to a grid with precision 10^( -5 ) to avoid GEOS errors.\n",
      "Identifying overlaps...\n"
     ]
    },
    {
     "name": "stderr",
     "output_type": "stream",
     "text": [
      "100%|█████████████████████████████████████████| 766/766 [00:00<00:00, 1330.39it/s]\n"
     ]
    },
    {
     "name": "stdout",
     "output_type": "stream",
     "text": [
      "Resolving overlaps...\n",
      "Assigning order 2 pieces...\n",
      "Filling gaps...\n"
     ]
    },
    {
     "name": "stderr",
     "output_type": "stream",
     "text": [
      "Gaps to simplify: 0it [00:00, ?it/s]\n",
      "Gaps to fill: 0it [00:00, ?it/s]\n",
      "100%|██████████████████████████████████████████| 608/608 [00:02<00:00, 214.29it/s]\n",
      "100%|██████████████████████████████████████████| 608/608 [00:01<00:00, 320.53it/s]\n",
      "100%|███████████████████████████████████████████| 608/608 [00:35<00:00, 17.01it/s]\n",
      "100%|██████████████████████████████████████████| 573/573 [00:01<00:00, 304.05it/s]\n",
      "100%|███████████████████████████████████████████| 573/573 [00:35<00:00, 16.01it/s]\n"
     ]
    },
    {
     "name": "stdout",
     "output_type": "stream",
     "text": [
      "population agrees\n"
     ]
    }
   ],
   "source": [
    "# check the result here\n",
    "start_col = 3\n",
    "election_df = add_vest(vest18, election_df, '18', population_df, start_col)"
   ]
  },
  {
   "cell_type": "code",
   "execution_count": 34,
   "id": "7b79aa15-ceed-4dda-8727-ed461c1ab898",
   "metadata": {},
   "outputs": [],
   "source": [
    "# vest 16"
   ]
  },
  {
   "cell_type": "code",
   "execution_count": 35,
   "id": "4d7476dd-c003-4fa5-ab9b-8ed6f75bed39",
   "metadata": {
    "tags": []
   },
   "outputs": [
    {
     "data": {
      "text/plain": [
       "Index(['STATEFP', 'COUNTYFP', 'NAME', 'G16PREDCLI', 'G16PRERTRU', 'G16PRELJOH',\n",
       "       'G16PREGSTE', 'G16PREOWRI', 'geometry'],\n",
       "      dtype='object')"
      ]
     },
     "execution_count": 35,
     "metadata": {},
     "output_type": "execute_result"
    }
   ],
   "source": [
    "vest16 = gpd.read_file(vest16_data)\n",
    "vest16.columns"
   ]
  },
  {
   "cell_type": "code",
   "execution_count": 36,
   "id": "579d1844-0a2c-4bf4-889d-a2234738cd2a",
   "metadata": {},
   "outputs": [
    {
     "name": "stderr",
     "output_type": "stream",
     "text": [
      "100%|██████████████████████████████████████████| 609/609 [00:03<00:00, 198.92it/s]\n"
     ]
    },
    {
     "name": "stdout",
     "output_type": "stream",
     "text": [
      "There are 33 overlaps.\n",
      "Snapping all geometries to a grid with precision 10^( -5 ) to avoid GEOS errors.\n",
      "Identifying overlaps...\n"
     ]
    },
    {
     "name": "stderr",
     "output_type": "stream",
     "text": [
      "100%|█████████████████████████████████████████| 770/770 [00:00<00:00, 1406.34it/s]\n"
     ]
    },
    {
     "name": "stdout",
     "output_type": "stream",
     "text": [
      "Resolving overlaps...\n",
      "Assigning order 2 pieces...\n",
      "Filling gaps...\n"
     ]
    },
    {
     "name": "stderr",
     "output_type": "stream",
     "text": [
      "Gaps to simplify: 0it [00:00, ?it/s]\n",
      "Gaps to fill: 0it [00:00, ?it/s]\n",
      "100%|██████████████████████████████████████████| 609/609 [00:02<00:00, 213.93it/s]\n",
      "100%|██████████████████████████████████████████| 609/609 [00:01<00:00, 323.72it/s]\n",
      "100%|███████████████████████████████████████████| 609/609 [00:36<00:00, 16.63it/s]\n",
      "100%|██████████████████████████████████████████| 573/573 [00:01<00:00, 309.36it/s]\n",
      "100%|███████████████████████████████████████████| 573/573 [00:35<00:00, 16.25it/s]\n"
     ]
    },
    {
     "name": "stdout",
     "output_type": "stream",
     "text": [
      "population agrees\n"
     ]
    }
   ],
   "source": [
    "start_col = 3\n",
    "election_df = add_vest(vest16, election_df, '16', population_df, start_col)"
   ]
  },
  {
   "cell_type": "markdown",
   "id": "10cf83d4-6005-485b-8193-c0149869a97e",
   "metadata": {},
   "source": [
    "## Add the district data"
   ]
  },
  {
   "cell_type": "code",
   "execution_count": 37,
   "id": "a0ccb606-7fe4-4b0a-998b-337d31f4abc5",
   "metadata": {},
   "outputs": [],
   "source": [
    "cong_df = gpd.read_file(cd_data).to_crs('EPSG:4269')\n",
    "send = gpd.read_file(send_data).to_crs('EPSG:4269')\n",
    "hdist = gpd.read_file(hdist_data).to_crs('EPSG:4269')"
   ]
  },
  {
   "cell_type": "code",
   "execution_count": 38,
   "id": "dd5dba22-3d02-4361-9408-db49f0a1ac4d",
   "metadata": {},
   "outputs": [
    {
     "data": {
      "text/html": [
       "<div>\n",
       "<style scoped>\n",
       "    .dataframe tbody tr th:only-of-type {\n",
       "        vertical-align: middle;\n",
       "    }\n",
       "\n",
       "    .dataframe tbody tr th {\n",
       "        vertical-align: top;\n",
       "    }\n",
       "\n",
       "    .dataframe thead th {\n",
       "        text-align: right;\n",
       "    }\n",
       "</style>\n",
       "<table border=\"1\" class=\"dataframe\">\n",
       "  <thead>\n",
       "    <tr style=\"text-align: right;\">\n",
       "      <th></th>\n",
       "      <th>OBJECTID</th>\n",
       "      <th>ID</th>\n",
       "      <th>DISTRICT</th>\n",
       "      <th>DISTRICTN</th>\n",
       "      <th>Shape__Are</th>\n",
       "      <th>Shape__Len</th>\n",
       "      <th>geometry</th>\n",
       "    </tr>\n",
       "  </thead>\n",
       "  <tbody>\n",
       "    <tr>\n",
       "      <th>0</th>\n",
       "      <td>1</td>\n",
       "      <td>1</td>\n",
       "      <td>1</td>\n",
       "      <td>1</td>\n",
       "      <td>1.324646e+10</td>\n",
       "      <td>1.011934e+06</td>\n",
       "      <td>POLYGON ((-70.96969 43.48058, -70.96957 43.480...</td>\n",
       "    </tr>\n",
       "    <tr>\n",
       "      <th>1</th>\n",
       "      <td>2</td>\n",
       "      <td>2</td>\n",
       "      <td>2</td>\n",
       "      <td>2</td>\n",
       "      <td>7.832736e+10</td>\n",
       "      <td>1.873412e+06</td>\n",
       "      <td>POLYGON ((-70.97119 43.78499, -70.97175 43.785...</td>\n",
       "    </tr>\n",
       "  </tbody>\n",
       "</table>\n",
       "</div>"
      ],
      "text/plain": [
       "   OBJECTID  ID DISTRICT  DISTRICTN    Shape__Are    Shape__Len  \\\n",
       "0         1   1        1          1  1.324646e+10  1.011934e+06   \n",
       "1         2   2        2          2  7.832736e+10  1.873412e+06   \n",
       "\n",
       "                                            geometry  \n",
       "0  POLYGON ((-70.96969 43.48058, -70.96957 43.480...  \n",
       "1  POLYGON ((-70.97119 43.78499, -70.97175 43.785...  "
      ]
     },
     "execution_count": 38,
     "metadata": {},
     "output_type": "execute_result"
    }
   ],
   "source": [
    "cong_df.head()"
   ]
  },
  {
   "cell_type": "code",
   "execution_count": 39,
   "id": "72749f5b-c569-4a6b-a068-663267c845e6",
   "metadata": {},
   "outputs": [
    {
     "data": {
      "text/html": [
       "<div>\n",
       "<style scoped>\n",
       "    .dataframe tbody tr th:only-of-type {\n",
       "        vertical-align: middle;\n",
       "    }\n",
       "\n",
       "    .dataframe tbody tr th {\n",
       "        vertical-align: top;\n",
       "    }\n",
       "\n",
       "    .dataframe thead th {\n",
       "        text-align: right;\n",
       "    }\n",
       "</style>\n",
       "<table border=\"1\" class=\"dataframe\">\n",
       "  <thead>\n",
       "    <tr style=\"text-align: right;\">\n",
       "      <th></th>\n",
       "      <th>OBJECTID</th>\n",
       "      <th>ID</th>\n",
       "      <th>DISTRICT</th>\n",
       "      <th>DISTRICTN</th>\n",
       "      <th>Shape__Are</th>\n",
       "      <th>Shape__Len</th>\n",
       "      <th>geometry</th>\n",
       "    </tr>\n",
       "  </thead>\n",
       "  <tbody>\n",
       "    <tr>\n",
       "      <th>0</th>\n",
       "      <td>1</td>\n",
       "      <td>1</td>\n",
       "      <td>1</td>\n",
       "      <td>1</td>\n",
       "      <td>1.198014e+10</td>\n",
       "      <td>610708.266431</td>\n",
       "      <td>POLYGON ((-70.02318 46.57351, -70.02302 46.574...</td>\n",
       "    </tr>\n",
       "    <tr>\n",
       "      <th>1</th>\n",
       "      <td>2</td>\n",
       "      <td>2</td>\n",
       "      <td>2</td>\n",
       "      <td>2</td>\n",
       "      <td>9.707448e+09</td>\n",
       "      <td>631791.235418</td>\n",
       "      <td>MULTIPOLYGON (((-68.80091 45.32916, -68.80091 ...</td>\n",
       "    </tr>\n",
       "    <tr>\n",
       "      <th>2</th>\n",
       "      <td>3</td>\n",
       "      <td>3</td>\n",
       "      <td>3</td>\n",
       "      <td>3</td>\n",
       "      <td>1.473679e+09</td>\n",
       "      <td>286571.313966</td>\n",
       "      <td>POLYGON ((-69.60554 44.57759, -69.60530 44.577...</td>\n",
       "    </tr>\n",
       "    <tr>\n",
       "      <th>3</th>\n",
       "      <td>4</td>\n",
       "      <td>4</td>\n",
       "      <td>4</td>\n",
       "      <td>4</td>\n",
       "      <td>1.234250e+10</td>\n",
       "      <td>642851.840935</td>\n",
       "      <td>POLYGON ((-69.06239 44.92696, -69.06335 44.926...</td>\n",
       "    </tr>\n",
       "    <tr>\n",
       "      <th>4</th>\n",
       "      <td>5</td>\n",
       "      <td>5</td>\n",
       "      <td>5</td>\n",
       "      <td>5</td>\n",
       "      <td>1.130768e+10</td>\n",
       "      <td>884214.724375</td>\n",
       "      <td>POLYGON ((-70.15248 44.58932, -70.17235 44.586...</td>\n",
       "    </tr>\n",
       "  </tbody>\n",
       "</table>\n",
       "</div>"
      ],
      "text/plain": [
       "   OBJECTID  ID DISTRICT  DISTRICTN    Shape__Are     Shape__Len  \\\n",
       "0         1   1        1          1  1.198014e+10  610708.266431   \n",
       "1         2   2        2          2  9.707448e+09  631791.235418   \n",
       "2         3   3        3          3  1.473679e+09  286571.313966   \n",
       "3         4   4        4          4  1.234250e+10  642851.840935   \n",
       "4         5   5        5          5  1.130768e+10  884214.724375   \n",
       "\n",
       "                                            geometry  \n",
       "0  POLYGON ((-70.02318 46.57351, -70.02302 46.574...  \n",
       "1  MULTIPOLYGON (((-68.80091 45.32916, -68.80091 ...  \n",
       "2  POLYGON ((-69.60554 44.57759, -69.60530 44.577...  \n",
       "3  POLYGON ((-69.06239 44.92696, -69.06335 44.926...  \n",
       "4  POLYGON ((-70.15248 44.58932, -70.17235 44.586...  "
      ]
     },
     "execution_count": 39,
     "metadata": {},
     "output_type": "execute_result"
    }
   ],
   "source": [
    "send.head()"
   ]
  },
  {
   "cell_type": "code",
   "execution_count": 40,
   "id": "9d988b70-56a2-4b00-9b81-36384c278f37",
   "metadata": {},
   "outputs": [
    {
     "data": {
      "text/html": [
       "<div>\n",
       "<style scoped>\n",
       "    .dataframe tbody tr th:only-of-type {\n",
       "        vertical-align: middle;\n",
       "    }\n",
       "\n",
       "    .dataframe tbody tr th {\n",
       "        vertical-align: top;\n",
       "    }\n",
       "\n",
       "    .dataframe thead th {\n",
       "        text-align: right;\n",
       "    }\n",
       "</style>\n",
       "<table border=\"1\" class=\"dataframe\">\n",
       "  <thead>\n",
       "    <tr style=\"text-align: right;\">\n",
       "      <th></th>\n",
       "      <th>OBJECTID</th>\n",
       "      <th>ID</th>\n",
       "      <th>DISTRICT</th>\n",
       "      <th>DISTRICTN</th>\n",
       "      <th>Shape__Are</th>\n",
       "      <th>Shape__Len</th>\n",
       "      <th>geometry</th>\n",
       "    </tr>\n",
       "  </thead>\n",
       "  <tbody>\n",
       "    <tr>\n",
       "      <th>0</th>\n",
       "      <td>1</td>\n",
       "      <td>1</td>\n",
       "      <td>1</td>\n",
       "      <td>1</td>\n",
       "      <td>1.015617</td>\n",
       "      <td>5.697749</td>\n",
       "      <td>POLYGON ((-70.02318 46.57351, -70.02302 46.574...</td>\n",
       "    </tr>\n",
       "    <tr>\n",
       "      <th>1</th>\n",
       "      <td>2</td>\n",
       "      <td>2</td>\n",
       "      <td>2</td>\n",
       "      <td>2</td>\n",
       "      <td>0.196869</td>\n",
       "      <td>2.702875</td>\n",
       "      <td>POLYGON ((-68.58197 46.92301, -68.58154 46.923...</td>\n",
       "    </tr>\n",
       "    <tr>\n",
       "      <th>2</th>\n",
       "      <td>3</td>\n",
       "      <td>3</td>\n",
       "      <td>3</td>\n",
       "      <td>3</td>\n",
       "      <td>0.135217</td>\n",
       "      <td>2.322889</td>\n",
       "      <td>POLYGON ((-67.92160 46.68653, -67.92197 46.694...</td>\n",
       "    </tr>\n",
       "    <tr>\n",
       "      <th>3</th>\n",
       "      <td>4</td>\n",
       "      <td>4</td>\n",
       "      <td>4</td>\n",
       "      <td>4</td>\n",
       "      <td>0.046235</td>\n",
       "      <td>1.176316</td>\n",
       "      <td>POLYGON ((-68.30052 46.74718, -68.30050 46.749...</td>\n",
       "    </tr>\n",
       "    <tr>\n",
       "      <th>4</th>\n",
       "      <td>5</td>\n",
       "      <td>5</td>\n",
       "      <td>5</td>\n",
       "      <td>5</td>\n",
       "      <td>0.023634</td>\n",
       "      <td>0.622563</td>\n",
       "      <td>POLYGON ((-68.05653 46.77569, -68.05374 46.775...</td>\n",
       "    </tr>\n",
       "  </tbody>\n",
       "</table>\n",
       "</div>"
      ],
      "text/plain": [
       "   OBJECTID  ID DISTRICT  DISTRICTN  Shape__Are  Shape__Len  \\\n",
       "0         1   1        1          1    1.015617    5.697749   \n",
       "1         2   2        2          2    0.196869    2.702875   \n",
       "2         3   3        3          3    0.135217    2.322889   \n",
       "3         4   4        4          4    0.046235    1.176316   \n",
       "4         5   5        5          5    0.023634    0.622563   \n",
       "\n",
       "                                            geometry  \n",
       "0  POLYGON ((-70.02318 46.57351, -70.02302 46.574...  \n",
       "1  POLYGON ((-68.58197 46.92301, -68.58154 46.923...  \n",
       "2  POLYGON ((-67.92160 46.68653, -67.92197 46.694...  \n",
       "3  POLYGON ((-68.30052 46.74718, -68.30050 46.749...  \n",
       "4  POLYGON ((-68.05653 46.77569, -68.05374 46.775...  "
      ]
     },
     "execution_count": 40,
     "metadata": {},
     "output_type": "execute_result"
    }
   ],
   "source": [
    "hdist.head()"
   ]
  },
  {
   "cell_type": "code",
   "execution_count": 41,
   "id": "2b8fbf45-f392-4996-9dc6-e9ee67d0e715",
   "metadata": {
    "tags": []
   },
   "outputs": [
    {
     "name": "stderr",
     "output_type": "stream",
     "text": [
      "100%|███████████████████████████████████████████████| 2/2 [00:00<00:00, 28.74it/s]\n",
      "100%|███████████████████████████████████████████████| 2/2 [00:00<00:00, 27.25it/s]\n",
      "100%|███████████████████████████████████████████████| 2/2 [00:01<00:00,  1.54it/s]\n"
     ]
    }
   ],
   "source": [
    "election_df = add_district(cong_df, \"CD\", election_df, \"DISTRICT\")"
   ]
  },
  {
   "cell_type": "code",
   "execution_count": 42,
   "id": "a9fe98af-f37e-4200-835e-f96695f68e41",
   "metadata": {
    "tags": []
   },
   "outputs": [
    {
     "name": "stderr",
     "output_type": "stream",
     "text": [
      "100%|█████████████████████████████████████████████| 35/35 [00:00<00:00, 56.39it/s]\n"
     ]
    },
    {
     "name": "stdout",
     "output_type": "stream",
     "text": [
      "There are 10 overlaps.\n",
      "There are 308 holes.\n",
      "Snapping all geometries to a grid with precision 10^( -5 ) to avoid GEOS errors.\n",
      "Identifying overlaps...\n"
     ]
    },
    {
     "name": "stderr",
     "output_type": "stream",
     "text": [
      "100%|█████████████████████████████████████████| 685/685 [00:00<00:00, 1567.07it/s]\n"
     ]
    },
    {
     "name": "stdout",
     "output_type": "stream",
     "text": [
      "Resolving overlaps...\n",
      "Assigning order 2 pieces...\n",
      "Filling gaps...\n"
     ]
    },
    {
     "name": "stderr",
     "output_type": "stream",
     "text": [
      "Gaps to simplify: 100%|█████████████████████████| 305/305 [00:25<00:00, 12.02it/s]\n",
      "Gaps to fill: 100%|█████████████████████████████████| 3/3 [00:00<00:00,  8.07it/s]\n",
      "100%|█████████████████████████████████████████████| 35/35 [00:00<00:00, 58.92it/s]\n",
      "100%|████████████████████████████████████████████| 35/35 [00:00<00:00, 331.62it/s]\n",
      "100%|█████████████████████████████████████████████| 35/35 [00:03<00:00,  9.07it/s]\n"
     ]
    }
   ],
   "source": [
    "election_df = add_district(send, \"SEND\", election_df, \"DISTRICT\")"
   ]
  },
  {
   "cell_type": "code",
   "execution_count": 43,
   "id": "da4c6235-1028-43d0-adde-affe669c3f20",
   "metadata": {
    "tags": []
   },
   "outputs": [
    {
     "name": "stderr",
     "output_type": "stream",
     "text": [
      "100%|██████████████████████████████████████████| 151/151 [00:01<00:00, 120.78it/s]\n"
     ]
    },
    {
     "name": "stdout",
     "output_type": "stream",
     "text": [
      "There are 1 overlaps.\n",
      "There are 1 holes.\n",
      "Snapping all geometries to a grid with precision 10^( -5 ) to avoid GEOS errors.\n",
      "Identifying overlaps...\n"
     ]
    },
    {
     "name": "stderr",
     "output_type": "stream",
     "text": [
      "100%|█████████████████████████████████████████| 165/165 [00:00<00:00, 1045.74it/s]"
     ]
    },
    {
     "name": "stdout",
     "output_type": "stream",
     "text": [
      "Resolving overlaps...\n"
     ]
    },
    {
     "name": "stderr",
     "output_type": "stream",
     "text": [
      "\n"
     ]
    },
    {
     "name": "stdout",
     "output_type": "stream",
     "text": [
      "Assigning order 2 pieces...\n",
      "Filling gaps...\n"
     ]
    },
    {
     "name": "stderr",
     "output_type": "stream",
     "text": [
      "Gaps to simplify: 100%|█████████████████████████████| 1/1 [00:00<00:00, 13.74it/s]\n",
      "Gaps to fill: 0it [00:00, ?it/s]\n",
      "100%|██████████████████████████████████████████| 151/151 [00:01<00:00, 124.12it/s]\n",
      "100%|█████████████████████████████████████████| 151/151 [00:00<00:00, 1038.79it/s]\n",
      "100%|███████████████████████████████████████████| 151/151 [00:04<00:00, 35.14it/s]\n"
     ]
    }
   ],
   "source": [
    "election_df = add_district(hdist, \"HDIST\", election_df, \"DISTRICT\")"
   ]
  },
  {
   "cell_type": "code",
   "execution_count": 47,
   "id": "aaee6a30-6a18-473e-bd02-7881c1e94e68",
   "metadata": {},
   "outputs": [
    {
     "data": {
      "text/plain": [
       "['2MOREVAP',\n",
       " 'AMINVAP',\n",
       " 'ASIANVAP',\n",
       " 'BVAP',\n",
       " 'COUNTY20',\n",
       " 'GOV18D',\n",
       " 'GOV18O',\n",
       " 'GOV18R',\n",
       " 'HISP',\n",
       " 'HVAP',\n",
       " 'H_2MORE',\n",
       " 'H_AMIN',\n",
       " 'H_ASIAN',\n",
       " 'H_BLACK',\n",
       " 'H_NHPI',\n",
       " 'H_OTHER',\n",
       " 'H_WHITE',\n",
       " 'NAME20',\n",
       " 'NHPIVAP',\n",
       " 'NH_2MORE',\n",
       " 'NH_AMIN',\n",
       " 'NH_ASIAN',\n",
       " 'NH_BLACK',\n",
       " 'NH_NHPI',\n",
       " 'NH_OTHER',\n",
       " 'NH_WHITE',\n",
       " 'OTHERVAP',\n",
       " 'PRE16D',\n",
       " 'PRE16O',\n",
       " 'PRE16R',\n",
       " 'PRE20D',\n",
       " 'PRE20O',\n",
       " 'PRE20R',\n",
       " 'STATEFP20',\n",
       " 'TOTPOP',\n",
       " 'USS18D',\n",
       " 'USS18O',\n",
       " 'USS18R',\n",
       " 'USS20D',\n",
       " 'USS20O',\n",
       " 'USS20R',\n",
       " 'VAP',\n",
       " 'WVAP',\n",
       " 'geometry',\n",
       " 'CD',\n",
       " 'SEND',\n",
       " 'HDIST']"
      ]
     },
     "execution_count": 47,
     "metadata": {},
     "output_type": "execute_result"
    }
   ],
   "source": [
    "list(election_df.columns)"
   ]
  },
  {
   "cell_type": "markdown",
   "id": "0bba365b-7d46-45ea-9b8b-400fc162a82f",
   "metadata": {},
   "source": [
    "### Put the base precinct year after the precinct information column"
   ]
  },
  {
   "cell_type": "code",
   "execution_count": 45,
   "id": "7086205b-49f4-44a7-be19-9eeac924e07b",
   "metadata": {},
   "outputs": [],
   "source": [
    "base_columns = {}\n",
    "if 'COUNTYFP' + year not in election_df.columns:\n",
    "    base_columns = {\n",
    "        'STATEFP':'STATEFP'+year,\n",
    "        'COUNTYFP':'COUNTYFP'+year,\n",
    "        'PRECINCT':'PRECINCT'+year,\n",
    "        'GEOID':'GEOID'+year,\n",
    "        'NAME':'NAME'+year}\n",
    "election_df.rename(columns=base_columns, inplace = True)"
   ]
  },
  {
   "cell_type": "code",
   "execution_count": 48,
   "id": "3ea62760-cc32-4fcc-8475-c3ba956cb901",
   "metadata": {},
   "outputs": [],
   "source": [
    "# reorder the columns\n",
    "fixed_columns = [\n",
    "    'STATEFP'+year,\n",
    "    # 'COUNTYFP'+year,\n",
    "    # 'PRECINCT'+year,\n",
    "    # 'GEOID'+year,\n",
    "    'NAME'+year,\n",
    "    'CD',\n",
    "    'SEND',\n",
    "    'HDIST',\n",
    "    'TOTPOP',\n",
    "    'NH_2MORE',\n",
    "    'NH_AMIN',\n",
    "    'NH_ASIAN',\n",
    "    'NH_BLACK',\n",
    "    'NH_NHPI',\n",
    "    'NH_OTHER',\n",
    "    'NH_WHITE',\n",
    "    'HISP',\n",
    "    'H_AMIN',\n",
    "    'H_ASIAN',\n",
    "    'H_BLACK',\n",
    "    'H_NHPI',\n",
    "    'H_OTHER',\n",
    "    'H_WHITE',\n",
    "    'H_2MORE',\n",
    "    'VAP',\n",
    "    'HVAP',\n",
    "    'WVAP',\n",
    "    'BVAP',\n",
    "    'AMINVAP',\n",
    "    'ASIANVAP',\n",
    "    'NHPIVAP',\n",
    "    'OTHERVAP',\n",
    "    '2MOREVAP']\n",
    "\n",
    "election_columns = [col for col in election_df.columns if col not in fixed_columns]\n",
    "final_col = fixed_columns + election_columns\n",
    "election_df = election_df[final_col]"
   ]
  },
  {
   "cell_type": "code",
   "execution_count": 49,
   "id": "fd2b8af8-fac1-44f2-84eb-b2870384daaf",
   "metadata": {},
   "outputs": [
    {
     "data": {
      "text/plain": [
       "['STATEFP20',\n",
       " 'NAME20',\n",
       " 'CD',\n",
       " 'SEND',\n",
       " 'HDIST',\n",
       " 'TOTPOP',\n",
       " 'NH_2MORE',\n",
       " 'NH_AMIN',\n",
       " 'NH_ASIAN',\n",
       " 'NH_BLACK',\n",
       " 'NH_NHPI',\n",
       " 'NH_OTHER',\n",
       " 'NH_WHITE',\n",
       " 'HISP',\n",
       " 'H_AMIN',\n",
       " 'H_ASIAN',\n",
       " 'H_BLACK',\n",
       " 'H_NHPI',\n",
       " 'H_OTHER',\n",
       " 'H_WHITE',\n",
       " 'H_2MORE',\n",
       " 'VAP',\n",
       " 'HVAP',\n",
       " 'WVAP',\n",
       " 'BVAP',\n",
       " 'AMINVAP',\n",
       " 'ASIANVAP',\n",
       " 'NHPIVAP',\n",
       " 'OTHERVAP',\n",
       " '2MOREVAP',\n",
       " 'COUNTY20',\n",
       " 'GOV18D',\n",
       " 'GOV18O',\n",
       " 'GOV18R',\n",
       " 'PRE16D',\n",
       " 'PRE16O',\n",
       " 'PRE16R',\n",
       " 'PRE20D',\n",
       " 'PRE20O',\n",
       " 'PRE20R',\n",
       " 'USS18D',\n",
       " 'USS18O',\n",
       " 'USS18R',\n",
       " 'USS20D',\n",
       " 'USS20O',\n",
       " 'USS20R',\n",
       " 'geometry']"
      ]
     },
     "execution_count": 49,
     "metadata": {},
     "output_type": "execute_result"
    }
   ],
   "source": [
    "list(election_df.columns)"
   ]
  },
  {
   "cell_type": "code",
   "execution_count": 50,
   "id": "1b198042-dbd4-408e-bfd4-4494f2b49245",
   "metadata": {
    "tags": []
   },
   "outputs": [],
   "source": [
    "# store the result in directory \"il\"\n",
    "os.makedirs(\"./{}\".format(state_ab))\n",
    "election_df.to_file(\"./{}/{}.shp\".format(state_ab, state_ab))\n",
    "election_df.to_file('./{}/{}.geojson'.format(state_ab, state_ab), driver='GeoJSON')\n",
    "\n",
    "# Only do once to build json and read from file when generating ensembles\n",
    "graph = Graph.from_file(\"./{}/{}.shp\".format(state_ab, state_ab), ignore_errors=True)\n",
    "graph.to_json(\"./{}/{}.json\".format(state_ab, state_ab))"
   ]
  },
  {
   "cell_type": "code",
   "execution_count": null,
   "id": "a8ba4789-8282-428a-90d4-e59ee50f4064",
   "metadata": {},
   "outputs": [],
   "source": []
  }
 ],
 "metadata": {
  "kernelspec": {
   "display_name": "maup",
   "language": "python",
   "name": "maup"
  },
  "language_info": {
   "codemirror_mode": {
    "name": "ipython",
    "version": 3
   },
   "file_extension": ".py",
   "mimetype": "text/x-python",
   "name": "python",
   "nbconvert_exporter": "python",
   "pygments_lexer": "ipython3",
   "version": "3.9.12"
  }
 },
 "nbformat": 4,
 "nbformat_minor": 5
}
